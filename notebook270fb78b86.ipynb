{
 "cells": [
  {
   "cell_type": "code",
   "execution_count": null,
   "id": "46eee96b",
   "metadata": {
    "papermill": {
     "duration": 0.002826,
     "end_time": "2024-07-16T09:09:37.928936",
     "exception": false,
     "start_time": "2024-07-16T09:09:37.926110",
     "status": "completed"
    },
    "tags": []
   },
   "outputs": [],
   "source": []
  },
  {
   "cell_type": "raw",
   "id": "17e9f349",
   "metadata": {
    "_cell_guid": "b1076dfc-b9ad-4769-8c92-a6c4dae69d19",
    "_uuid": "8f2839f25d086af736a60e9eeb907d3b93b6e0e5",
    "papermill": {
     "duration": 0.002014,
     "end_time": "2024-07-16T09:09:37.933460",
     "exception": false,
     "start_time": "2024-07-16T09:09:37.931446",
     "status": "completed"
    },
    "tags": []
   },
   "source": [
    "# This Python 3 environment comes with many helpful analytics libraries installed\n",
    "# It is defined by the kaggle/python Docker image: https://github.com/kaggle/docker-python\n",
    "# For example, here's several helpful packages to load\n",
    "\n",
    "import numpy as np # linear algebra\n",
    "import pandas as pd # data processing, CSV file I/O (e.g. pd.read_csv)\n",
    "\n",
    "# Input data files are available in the read-only \"../input/\" directory\n",
    "# For example, running this (by clicking run or pressing Shift+Enter) will list all files under the input directory\n",
    "\n",
    "import os\n",
    "for dirname, _, filenames in os.walk('/kaggle/input'):\n",
    "    for filename in filenames:\n",
    "        print(os.path.join(dirname, filename))\n",
    "\n",
    "# You can write up to 20GB to the current directory (/kaggle/working/) that gets preserved as output when you create a version using \"Save & Run All\" \n",
    "# You can also write temporary files to /kaggle/temp/, but they won't be saved outside of the current session"
   ]
  },
  {
   "cell_type": "code",
   "execution_count": 1,
   "id": "63f6a132",
   "metadata": {
    "execution": {
     "iopub.execute_input": "2024-07-16T09:09:37.939613Z",
     "iopub.status.busy": "2024-07-16T09:09:37.939225Z",
     "iopub.status.idle": "2024-07-16T09:09:40.946860Z",
     "shell.execute_reply": "2024-07-16T09:09:40.945625Z"
    },
    "papermill": {
     "duration": 3.013742,
     "end_time": "2024-07-16T09:09:40.949546",
     "exception": false,
     "start_time": "2024-07-16T09:09:37.935804",
     "status": "completed"
    },
    "tags": []
   },
   "outputs": [],
   "source": [
    "import pandas as pd\n",
    "import numpy as np\n",
    "from sklearn.pipeline import Pipeline\n",
    "from sklearn.compose import ColumnTransformer\n",
    "from sklearn.impute import SimpleImputer, KNNImputer\n",
    "from sklearn.preprocessing import OrdinalEncoder, StandardScaler, LabelEncoder\n",
    "from sklearn.model_selection import StratifiedKFold, cross_val_score, RandomizedSearchCV\n",
    "from sklearn.metrics import accuracy_score\n",
    "from xgboost import XGBClassifier\n",
    "\n",
    "\n",
    "data_train = pd.read_csv(\"/kaggle/input/crime-cast-forecasting-crime-categories/train.csv\")\n",
    "\n",
    "\n",
    "split_modus = data_train[\"Modus_Operandi\"].str.split(expand=True)\n",
    "split_modus = split_modus.rename(columns={i: f\"m{i+1}\" for i in range(10)})\n",
    "split_modus = split_modus.fillna(0)\n",
    "data_train = pd.concat([data_train, split_modus], axis=1)\n",
    "\n",
    "features_to_keep = [\n",
    "    \"Status\", \"Victim_Sex\", 'Part 1-2', 'Victim_Age', 'Premise_Code',\n",
    "    'Weapon_Used_Code', 'm1', 'm2', 'm3', 'm4', 'm5', 'm6', 'm7', 'm8', 'm9', 'm10'\n",
    "]\n",
    "\n",
    "X = data_train[features_to_keep]\n",
    "y = data_train['Crime_Category']\n",
    "\n",
    "\n",
    "le = LabelEncoder()\n",
    "y = le.fit_transform(y)\n",
    "\n",
    "categorical_features = ['Victim_Age', \"Victim_Sex\", \"Status\"]\n",
    "\n",
    "\n",
    "numerical_features = [col for col in X.columns if col not in categorical_features]\n",
    "\n",
    "numerical_pipeline = Pipeline(steps=[\n",
    "    ('imputer', KNNImputer(n_neighbors=5)),\n",
    "    ('scaler', StandardScaler())\n",
    "])\n",
    "\n",
    "categorical_pipeline = Pipeline(steps=[\n",
    "    ('imputer', SimpleImputer(strategy='most_frequent')),\n",
    "    ('encoder', OrdinalEncoder(handle_unknown='use_encoded_value', unknown_value=-1))\n",
    "])\n",
    "\n",
    "preprocessor = ColumnTransformer(\n",
    "    transformers=[\n",
    "        ('num', numerical_pipeline, numerical_features),\n",
    "        ('cat', categorical_pipeline, categorical_features)\n",
    "    ]\n",
    ")\n",
    "\n",
    "# Create a full pipeline with the preprocessor and a XGBClassifier\n",
    "pipeline = Pipeline(steps=[\n",
    "    ('preprocessor', preprocessor),\n",
    "    ('classifier', XGBClassifier(use_label_encoder=False, eval_metric='logloss'))\n",
    "])\n",
    "\n",
    "\n",
    "\n"
   ]
  },
  {
   "cell_type": "code",
   "execution_count": 2,
   "id": "5f662e88",
   "metadata": {
    "execution": {
     "iopub.execute_input": "2024-07-16T09:09:40.955614Z",
     "iopub.status.busy": "2024-07-16T09:09:40.955220Z",
     "iopub.status.idle": "2024-07-16T17:42:25.751765Z",
     "shell.execute_reply": "2024-07-16T17:42:25.748234Z"
    },
    "papermill": {
     "duration": 30764.803768,
     "end_time": "2024-07-16T17:42:25.755684",
     "exception": false,
     "start_time": "2024-07-16T09:09:40.951916",
     "status": "completed"
    },
    "tags": []
   },
   "outputs": [
    {
     "name": "stdout",
     "output_type": "stream",
     "text": [
      "Fitting 15 folds for each of 300 candidates, totalling 4500 fits\n",
      "Best parameters: {'classifier__subsample': 0.93, 'classifier__reg_lambda': 0.8, 'classifier__reg_alpha': 0, 'classifier__n_estimators': 350, 'classifier__min_child_weight': 2, 'classifier__max_depth': 8, 'classifier__learning_rate': 0.13, 'classifier__gamma': 0.18, 'classifier__colsample_bytree': 0.27}\n",
      "Best cross-validation score: 0.9469666666666668\n"
     ]
    }
   ],
   "source": [
    "param_dist = {\n",
    "    'classifier__n_estimators': [275, 300, 325, 350, 375],\n",
    "    'classifier__max_depth': [8, 9, 10, 11],\n",
    "    'classifier__subsample': [0.85, 0.87, 0.89, 0.91, 0.93],\n",
    "    'classifier__colsample_bytree': [0.23, 0.25, 0.27, 0.29, 0.31],\n",
    "    'classifier__gamma': [0.18, 0.2, 0.22, 0.24, 0.26],\n",
    "    'classifier__learning_rate': [0.13, 0.15, 0.17, 0.19, 0.21],\n",
    "    'classifier__min_child_weight': [1, 2, 3],\n",
    "    'classifier__reg_alpha': [0, 0.05, 0.1, 0.15],\n",
    "    'classifier__reg_lambda': [0.8, 0.9, 1, 1.1, 1.2]\n",
    "}\n",
    "\n",
    "\n",
    "from sklearn.model_selection import RepeatedStratifiedKFold\n",
    "cv = RepeatedStratifiedKFold(n_splits=5, n_repeats=3, random_state=42)\n",
    "\n",
    "random_search = RandomizedSearchCV(\n",
    "    pipeline, param_distributions=param_dist, n_iter=300, cv=cv,\n",
    "    scoring='accuracy', n_jobs=-1, random_state=42, verbose=1\n",
    ")\n",
    "random_search.fit(X, y)\n",
    "\n",
    "print(\"Best parameters:\", random_search.best_params_)\n",
    "print(\"Best cross-validation score:\", random_search.best_score_)\n",
    "\n",
    "\n",
    "best_model = random_search.best_estimator_\n",
    "\n",
    "\n",
    "data_test = pd.read_csv(\"/kaggle/input/crime-cast-forecasting-crime-categories/test.csv\")\n",
    "\n",
    "split_modus = data_test[\"Modus_Operandi\"].str.split(expand=True)\n",
    "split_modus = split_modus.rename(columns={i: f\"m{i+1}\" for i in range(10)})\n",
    "split_modus = split_modus.fillna(0)\n",
    "data_test = pd.concat([data_test, split_modus], axis=1)\n",
    "\n",
    "data_test = data_test[features_to_keep]\n",
    "\n",
    "test_predictions = le.inverse_transform(best_model.predict(data_test))"
   ]
  },
  {
   "cell_type": "code",
   "execution_count": 3,
   "id": "81d51bbb",
   "metadata": {
    "execution": {
     "iopub.execute_input": "2024-07-16T17:42:25.768622Z",
     "iopub.status.busy": "2024-07-16T17:42:25.768098Z",
     "iopub.status.idle": "2024-07-16T17:42:25.796108Z",
     "shell.execute_reply": "2024-07-16T17:42:25.794968Z"
    },
    "papermill": {
     "duration": 0.04127,
     "end_time": "2024-07-16T17:42:25.801082",
     "exception": false,
     "start_time": "2024-07-16T17:42:25.759812",
     "status": "completed"
    },
    "tags": []
   },
   "outputs": [],
   "source": [
    "submission = pd.DataFrame({\n",
    "    'ID': range(1, len(test_predictions) + 1),\n",
    "    'Crime_Category': test_predictions\n",
    "})\n",
    "submission.to_csv('submissionnn2.csv', index=False)"
   ]
  }
 ],
 "metadata": {
  "kaggle": {
   "accelerator": "none",
   "dataSources": [
    {
     "databundleVersionId": 8446444,
     "sourceId": 77420,
     "sourceType": "competition"
    }
   ],
   "dockerImageVersionId": 30746,
   "isGpuEnabled": false,
   "isInternetEnabled": true,
   "language": "python",
   "sourceType": "notebook"
  },
  "kernelspec": {
   "display_name": "Python 3",
   "language": "python",
   "name": "python3"
  },
  "language_info": {
   "codemirror_mode": {
    "name": "ipython",
    "version": 3
   },
   "file_extension": ".py",
   "mimetype": "text/x-python",
   "name": "python",
   "nbconvert_exporter": "python",
   "pygments_lexer": "ipython3",
   "version": "3.10.13"
  },
  "papermill": {
   "default_parameters": {},
   "duration": 30773.48043,
   "end_time": "2024-07-16T17:42:28.564674",
   "environment_variables": {},
   "exception": null,
   "input_path": "__notebook__.ipynb",
   "output_path": "__notebook__.ipynb",
   "parameters": {},
   "start_time": "2024-07-16T09:09:35.084244",
   "version": "2.5.0"
  }
 },
 "nbformat": 4,
 "nbformat_minor": 5
}
